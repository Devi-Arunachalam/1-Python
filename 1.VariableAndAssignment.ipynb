{
 "cells": [
  {
   "cell_type": "code",
   "execution_count": 1,
   "metadata": {},
   "outputs": [
    {
     "name": "stdout",
     "output_type": "stream",
     "text": [
      "Welcome to Python\n"
     ]
    }
   ],
   "source": [
    "print(\"Welcome to Python\")"
   ]
  },
  {
   "cell_type": "markdown",
   "metadata": {},
   "source": [
    "# Variable"
   ]
  },
  {
   "cell_type": "code",
   "execution_count": 5,
   "metadata": {},
   "outputs": [
    {
     "name": "stdout",
     "output_type": "stream",
     "text": [
      "12\n"
     ]
    }
   ],
   "source": [
    "num1=5\n",
    "num2=7\n",
    "add=num1+num2\n",
    "print(add)"
   ]
  },
  {
   "cell_type": "code",
   "execution_count": 6,
   "metadata": {},
   "outputs": [
    {
     "name": "stdout",
     "output_type": "stream",
     "text": [
      "The mul of num1 and num2:\n",
      "90\n"
     ]
    }
   ],
   "source": [
    "num1=45\n",
    "num2=2\n",
    "mul=num1*num2\n",
    "print(\"The mul of num1 and num2:\")\n",
    "print(mul)"
   ]
  },
  {
   "cell_type": "code",
   "execution_count": 4,
   "metadata": {},
   "outputs": [
    {
     "name": "stdout",
     "output_type": "stream",
     "text": [
      "Welcome Devi to Python\n",
      "Welcome Arunachalam to Python\n"
     ]
    }
   ],
   "source": [
    "org=\"Python\"\n",
    "name1=\"Devi\"\n",
    "name2=\"Arunachalam\"\n",
    "\n",
    "print(\"Welcome\",name1,\"to\",org)\n",
    "print(\"Welcome\",name2,\"to\",org)"
   ]
  },
  {
   "cell_type": "code",
   "execution_count": 7,
   "metadata": {
    "scrolled": true
   },
   "outputs": [
    {
     "name": "stdout",
     "output_type": "stream",
     "text": [
      "The Radius of the circle: 2\n",
      "The pi value is: 3.14\n",
      "The area of the circle formula: pi*radius*radius\n",
      "The area of the circle: 12.56\n"
     ]
    }
   ],
   "source": [
    "radius=2\n",
    "print(\"The Radius of the circle:\",radius)\n",
    "pi=3.14\n",
    "print(\"The pi value is:\",pi)\n",
    "print(\"The area of the circle formula: pi*radius*radius\")\n",
    "aofcircle=pi*radius*radius\n",
    "print(\"The area of the circle:\",aofcircle)"
   ]
  },
  {
   "cell_type": "markdown",
   "metadata": {},
   "source": [
    "# Rules for Variable\n",
    "### 1.No space between two terms\n",
    "### 2.variable name should not be the reserved keyword\n",
    "### 3.VAribale name should not start with number(Start with alph or underscore)\n",
    "### 4.Variable may contain alpha,numbers,characters(_)"
   ]
  },
  {
   "cell_type": "code",
   "execution_count": 6,
   "metadata": {},
   "outputs": [],
   "source": [
    "4variable=6"
   ]
  },
  {
   "cell_type": "code",
   "execution_count": 8,
   "metadata": {},
   "outputs": [],
   "source": [
    "_variable=6"
   ]
  },
  {
   "cell_type": "code",
   "execution_count": 9,
   "metadata": {},
   "outputs": [
    {
     "ename": "SyntaxError",
     "evalue": "invalid syntax (<ipython-input-9-372e3f590e68>, line 1)",
     "output_type": "error",
     "traceback": [
      "\u001b[1;36m  File \u001b[1;32m\"<ipython-input-9-372e3f590e68>\"\u001b[1;36m, line \u001b[1;32m1\u001b[0m\n\u001b[1;33m    pi value=5\u001b[0m\n\u001b[1;37m           ^\u001b[0m\n\u001b[1;31mSyntaxError\u001b[0m\u001b[1;31m:\u001b[0m invalid syntax\n"
     ]
    }
   ],
   "source": [
    "pi value=5"
   ]
  },
  {
   "cell_type": "code",
   "execution_count": 11,
   "metadata": {},
   "outputs": [],
   "source": [
    "piValue=5\n",
    "pi_Value=6\n"
   ]
  },
  {
   "cell_type": "code",
   "execution_count": null,
   "metadata": {},
   "outputs": [],
   "source": []
  },
  {
   "cell_type": "code",
   "execution_count": null,
   "metadata": {},
   "outputs": [],
   "source": [
    "logical opertors in python\n",
    "==\n",
    "<\n",
    ">\n",
    "<=\n",
    ">=\n",
    "!="
   ]
  }
 ],
 "metadata": {
  "kernelspec": {
   "display_name": "Python 3 (ipykernel)",
   "language": "python",
   "name": "python3"
  },
  "language_info": {
   "codemirror_mode": {
    "name": "ipython",
    "version": 3
   },
   "file_extension": ".py",
   "mimetype": "text/x-python",
   "name": "python",
   "nbconvert_exporter": "python",
   "pygments_lexer": "ipython3",
   "version": "3.9.12"
  }
 },
 "nbformat": 4,
 "nbformat_minor": 2
}
